{
 "cells": [
  {
   "cell_type": "code",
   "execution_count": 16,
   "metadata": {
    "pycharm": {
     "is_executing": false
    }
   },
   "outputs": [],
   "source": [
    "# <editor-fold desc=\"import stuff\">\n",
    "import pandas as pd\n",
    "import numpy as np\n",
    "import io\n",
    "# </editor-fold>"
   ]
  },
  {
   "cell_type": "code",
   "execution_count": 17,
   "metadata": {
    "pycharm": {
     "is_executing": false,
     "name": "#%%\n"
    }
   },
   "outputs": [],
   "source": [
    "# <editor-fold desc=\"Make Dataframe\">\n",
    "path = \"../untitled3/DatafinitiElectronicsProductsPricingData.csv\"\n",
    "Review_df = pd.read_csv(path)\n",
    "# </editor-fold>\n"
   ]
  },
  {
   "cell_type": "code",
   "execution_count": 18,
   "metadata": {
    "pycharm": {
     "is_executing": false,
     "name": "#%%\n"
    }
   },
   "outputs": [
    {
     "data": {
      "text/plain": [
       "Index(['id', 'prices.amountMax', 'prices.amountMin', 'prices.availability',\n",
       "       'prices.condition', 'prices.dateSeen', 'prices.isSale',\n",
       "       'prices.merchant', 'prices.shipping', 'asins', 'brand', 'categories',\n",
       "       'dateAdded', 'dateUpdated', 'ean', 'keys', 'manufacturer',\n",
       "       'manufacturerNumber', 'upc', 'weight'],\n",
       "      dtype='object')"
      ]
     },
     "execution_count": 18,
     "metadata": {},
     "output_type": "execute_result"
    }
   ],
   "source": [
    "Review_df.columns"
   ]
  },
  {
   "cell_type": "code",
   "execution_count": 19,
   "metadata": {
    "pycharm": {
     "is_executing": false,
     "name": "#%%\n"
    }
   },
   "outputs": [],
   "source": [
    "# <editor-fold desc=\"train, test validate part here\">\n",
    "# <editor-fold desc=\"train_test_split model\">\n",
    "from sklearn.model_selection import train_test_split\n",
    "#let train, validate and test one dataframe into .70, .20, .10\n",
    "train_ratio = .70\n",
    "validation_ratio = .20\n",
    "test_ratio = .10\n",
    "\n",
    "train, test = train_test_split(Review_df, test_size = 1 - train_ratio)\n",
    "validate, test = train_test_split(test, test_size=test_ratio/(test_ratio+validation_ratio))\n",
    "# </editor-fold>\n",
    "# </editor-fold>"
   ]
  },
  {
   "cell_type": "code",
   "execution_count": 20,
   "metadata": {
    "pycharm": {
     "is_executing": false,
     "name": "#%%\n"
    }
   },
   "outputs": [
    {
     "data": {
      "text/plain": [
       "id                      object\n",
       "prices.amountMax       float64\n",
       "prices.amountMin       float64\n",
       "prices.availability     object\n",
       "prices.condition        object\n",
       "prices.dateSeen         object\n",
       "prices.isSale             bool\n",
       "prices.merchant         object\n",
       "prices.shipping         object\n",
       "asins                   object\n",
       "brand                   object\n",
       "categories              object\n",
       "dateAdded               object\n",
       "dateUpdated             object\n",
       "ean                     object\n",
       "keys                    object\n",
       "manufacturer            object\n",
       "manufacturerNumber      object\n",
       "upc                     object\n",
       "weight                 float64\n",
       "dtype: object"
      ]
     },
     "execution_count": 20,
     "metadata": {},
     "output_type": "execute_result"
    }
   ],
   "source": [
    "train.dtypes"
   ]
  },
  {
   "cell_type": "markdown",
   "metadata": {
    "pycharm": {
     "name": "#%% md\n"
    }
   },
   "source": [
    "#let encode a single string column."
   ]
  },
  {
   "cell_type": "code",
   "execution_count": 21,
   "metadata": {
    "pycharm": {
     "is_executing": false,
     "name": "#%%\n"
    }
   },
   "outputs": [],
   "source": [
    "# <editor-fold desc=\"looks at some columns\">\n",
    "id = train['id'].value_counts()\n",
    "prices_availability = train['prices.availability'].value_counts()\n",
    "prices_condition =train['prices.condition'].value_counts()\n",
    "prices_merchant =train['prices.merchant'].value_counts()\n",
    "prices_shipping =train['prices.shipping'].value_counts()\n",
    "categories= train['categories'].value_counts()\n",
    "manufacturer =train['manufacturer'].value_counts()\n",
    "manufacturerNumber =train['manufacturerNumber'].value_counts()\n",
    "# </editor-fold>\n"
   ]
  },
  {
   "cell_type": "code",
   "execution_count": 22,
   "metadata": {
    "pycharm": {
     "is_executing": false,
     "name": "#%%\n"
    }
   },
   "outputs": [],
   "source": [
    "# <editor-fold desc=\"look at id\">\n",
    "#print(prices_availability, prices_condition, prices_merchant, prices_shipping, categories, manufacturer, manufacturerNumber)\n",
    "# </editor-fold>\n"
   ]
  },
  {
   "cell_type": "markdown",
   "metadata": {
    "pycharm": {
     "name": "#%% md\n"
    }
   },
   "source": [
    "OneHotEncode = prices.availability, prices.condition, \n",
    "\n",
    "\n",
    "Rewrite columns for manufacturer, \n",
    "prices.shipping, if has free shipping = 1, if no free shipping 0.\n",
    "prices.merchant = \n",
    "manufacturer,\n",
    "\n",
    "drop categories,"
   ]
  },
  {
   "cell_type": "code",
   "execution_count": 23,
   "metadata": {
    "pycharm": {
     "is_executing": false,
     "name": "#%%\n"
    }
   },
   "outputs": [],
   "source": [
    "# <editor-fold desc=\"Cardinality and target\">\n",
    "target = 'prices.amountMax'\n",
    "\n",
    "train_features = train.drop(columns=[target,'id', 'prices.amountMin'])\n",
    "#In the dataframe, grab all the numeric columns, then list it into columns. Finally turn it into array.\n",
    "numeric_features = train_features.select_dtypes(include='number').columns.tolist()\n",
    "#This (not a number) columns has how many unique categories?\n",
    "cardinality = train_features.select_dtypes(exclude='number').nunique()\n",
    "#if this columns has less than 50 keep that column, and turn it into array. (important step for panda ARRAY)\n",
    "categorical_features = cardinality[cardinality <= 50].index.tolist()\n",
    "#combine the list\n",
    "features = numeric_features + categorical_features\n",
    "# </editor-fold>"
   ]
  },
  {
   "cell_type": "code",
   "execution_count": null,
   "metadata": {
    "pycharm": {
     "is_executing": false,
     "name": "#%%\n"
    }
   },
   "outputs": [],
   "source": []
  },
  {
   "cell_type": "code",
   "execution_count": 24,
   "metadata": {
    "pycharm": {
     "is_executing": false,
     "name": "#%%\n"
    }
   },
   "outputs": [],
   "source": [
    "# <editor-fold desc=\"X train, validate, and test\">\n",
    "X_train = train[features]\n",
    "y_train = train[target]\n",
    "\n",
    "X_validate = validate[features]\n",
    "y_validate = validate[target]\n",
    "\n",
    "X_test = test[features]\n",
    "# </editor-fold>"
   ]
  },
  {
   "cell_type": "markdown",
   "metadata": {
    "pycharm": {
     "is_executing": false,
     "name": "#%% md\n"
    }
   },
   "source": [
    "instantiate it and ensure that we get a dense (and not sparse) array returned, and then encode our single column with the fit_transform method."
   ]
  },
  {
   "cell_type": "code",
   "execution_count": 25,
   "metadata": {
    "pycharm": {
     "is_executing": false,
     "name": "#%%\n"
    }
   },
   "outputs": [],
   "source": [
    "import category_encoders as ce\n",
    "from sklearn.impute import SimpleImputer\n",
    "from sklearn.linear_model import LogisticRegression\n",
    "from sklearn.pipeline import make_pipeline\n",
    "from sklearn.preprocessing import StandardScaler\n",
    "from sklearn import preprocessing\n",
    "\n",
    "pipeline = make_pipeline(\n",
    "    preprocessing.LabelEncoder(),\n",
    "    #ce.OneHotEncoder(use_cat_names=True),\n",
    "    SimpleImputer(strategy='mean'),\n",
    "    StandardScaler(),\n",
    "    LogisticRegression(multi_class='auto', solver='lbfgs', n_jobs=-1)\n",
    ")"
   ]
  },
  {
   "cell_type": "code",
   "execution_count": 26,
   "metadata": {
    "pycharm": {
     "is_executing": false,
     "name": "#%%\n"
    }
   },
   "outputs": [],
   "source": [
    "# <editor-fold desc=\"This is to fix continous Error\">\n",
    "#from sklearn import preprocessing\n",
    "#from sklearn import utils\n",
    "\n",
    "#lab_enc = preprocessing.LabelEncoder()\n",
    "#training_scores_encoded = lab_enc.fit_transform(y_train)\n",
    "#print(training_scores_encoded)\n",
    "#print(utils.multiclass.type_of_target(y_train))\n",
    "#print(utils.multiclass.type_of_target(y_train.astype('int')))\n",
    "#print(utils.multiclass.type_of_target(training_scores_encoded))\n",
    "\n",
    "# </editor-fold>\n",
    "\n",
    "\n",
    "import xgboost"
   ]
  },
  {
   "cell_type": "markdown",
   "metadata": {
    "pycharm": {
     "name": "#%% md\n"
    }
   },
   "source": [
    "ohe = OneHotEncoder(sparse=False, handle_unknown='ignore') #handle_unknow by putting all zeors.\n",
    "for one unique in a column, nan, none, \n",
    "\n",
    "can fill value with a paramenter\n",
    "si = SimpleImputer(strategy='constant', fill_value = 'MISSING')\n",
    "\n",
    "The OneHotEncoder works analogously. During the fit method, it finds all the unique values for each column and again stores this. When transform is called, it uses these stored unique values to produce the binary array."
   ]
  },
  {
   "cell_type": "code",
   "execution_count": 44,
   "metadata": {},
   "outputs": [],
   "source": [
    "from xgboost import XGBRegressor\n",
    "\n",
    "pipeline_OHE_XGRegressor = make_pipeline(\n",
    "    ce.OneHotEncoder(use_cat_names=True),\n",
    "    XGBRegressor()\n",
    ")"
   ]
  },
  {
   "cell_type": "code",
   "execution_count": 46,
   "metadata": {},
   "outputs": [
    {
     "name": "stderr",
     "output_type": "stream",
     "text": [
      "C:\\Users\\D3MoNa\\Anaconda3\\lib\\site-packages\\xgboost\\core.py:587: FutureWarning: Series.base is deprecated and will be removed in a future version\n",
      "  if getattr(data, 'base', None) is not None and \\\n",
      "C:\\Users\\D3MoNa\\Anaconda3\\lib\\site-packages\\xgboost\\core.py:588: FutureWarning: Series.base is deprecated and will be removed in a future version\n",
      "  data.base is not None and isinstance(data, np.ndarray) \\\n"
     ]
    },
    {
     "name": "stdout",
     "output_type": "stream",
     "text": [
      "[02:16:24] WARNING: src/objective/regression_obj.cu:152: reg:linear is now deprecated in favor of reg:squarederror.\n"
     ]
    },
    {
     "data": {
      "text/plain": [
       "Pipeline(memory=None,\n",
       "     steps=[('onehotencoder', OneHotEncoder(cols=['prices.availability', 'prices.condition', 'prices.shipping'],\n",
       "       drop_invariant=False, handle_missing='value',\n",
       "       handle_unknown='value', return_df=True, use_cat_names=True,\n",
       "       verbose=0)), ('xgbregressor', XGBRegressor(base_score=0.5, booste...lpha=0, reg_lambda=1, scale_pos_weight=1, seed=None,\n",
       "       silent=None, subsample=1, verbosity=1))])"
      ]
     },
     "execution_count": 46,
     "metadata": {},
     "output_type": "execute_result"
    }
   ],
   "source": [
    "pipeline_OHE_XGRegressor.fit(X_train,y_train)"
   ]
  },
  {
   "cell_type": "code",
   "execution_count": 60,
   "metadata": {},
   "outputs": [
    {
     "name": "stdout",
     "output_type": "stream",
     "text": [
      "validation Accuracy 0.6574682169766535\n"
     ]
    }
   ],
   "source": [
    "from sklearn.metrics import r2_score\n",
    "#from xgboost import r2_score\n",
    "y_pred_OHE_XGregressor = pipeline_OHE_XGRegressor.predict(X_validate)\n",
    "print('validation Accuracy', r2_score(y_validate,y_pred_OHE_XGregressor))"
   ]
  },
  {
   "cell_type": "code",
   "execution_count": 74,
   "metadata": {},
   "outputs": [],
   "source": [
    "encoder = ce.OneHotEncoder()\n",
    "X_train_encoder = encoder.fit_transform(X_train)\n",
    "X_val_encoder = encoder.transform(X_validate)"
   ]
  },
  {
   "cell_type": "code",
   "execution_count": 78,
   "metadata": {},
   "outputs": [
    {
     "name": "stdout",
     "output_type": "stream",
     "text": [
      "[03:23:47] WARNING: src/objective/regression_obj.cu:152: reg:linear is now deprecated in favor of reg:squarederror.\n",
      "[0]\tvalidation_0-rmse:883.543\tvalidation_1-rmse:931.438\n",
      "[1]\tvalidation_0-rmse:831.467\tvalidation_1-rmse:879.296\n",
      "[2]\tvalidation_0-rmse:786.326\tvalidation_1-rmse:832.752\n",
      "[3]\tvalidation_0-rmse:747.616\tvalidation_1-rmse:793.202\n",
      "[4]\tvalidation_0-rmse:714.432\tvalidation_1-rmse:760.292\n",
      "[5]\tvalidation_0-rmse:686.17\tvalidation_1-rmse:731.667\n",
      "[6]\tvalidation_0-rmse:660.317\tvalidation_1-rmse:704.152\n",
      "[7]\tvalidation_0-rmse:637.361\tvalidation_1-rmse:683.101\n",
      "[8]\tvalidation_0-rmse:618.917\tvalidation_1-rmse:664.921\n",
      "[9]\tvalidation_0-rmse:603.58\tvalidation_1-rmse:650.196\n",
      "[10]\tvalidation_0-rmse:590.077\tvalidation_1-rmse:636.76\n",
      "[11]\tvalidation_0-rmse:578.076\tvalidation_1-rmse:626.182\n",
      "[12]\tvalidation_0-rmse:569.184\tvalidation_1-rmse:618.195\n",
      "[13]\tvalidation_0-rmse:560.089\tvalidation_1-rmse:610.004\n",
      "[14]\tvalidation_0-rmse:553.342\tvalidation_1-rmse:603.828\n",
      "[15]\tvalidation_0-rmse:544.198\tvalidation_1-rmse:596.815\n",
      "[16]\tvalidation_0-rmse:538.377\tvalidation_1-rmse:591.857\n",
      "[17]\tvalidation_0-rmse:533.83\tvalidation_1-rmse:586.605\n",
      "[18]\tvalidation_0-rmse:527.572\tvalidation_1-rmse:582.11\n",
      "[19]\tvalidation_0-rmse:523.554\tvalidation_1-rmse:578.351\n",
      "[20]\tvalidation_0-rmse:519.214\tvalidation_1-rmse:575.478\n",
      "[21]\tvalidation_0-rmse:516.674\tvalidation_1-rmse:572.654\n",
      "[22]\tvalidation_0-rmse:513.506\tvalidation_1-rmse:568.451\n",
      "[23]\tvalidation_0-rmse:511.171\tvalidation_1-rmse:565.388\n",
      "[24]\tvalidation_0-rmse:509.803\tvalidation_1-rmse:564.088\n",
      "[25]\tvalidation_0-rmse:506.238\tvalidation_1-rmse:561.378\n",
      "[26]\tvalidation_0-rmse:504.023\tvalidation_1-rmse:559.977\n",
      "[27]\tvalidation_0-rmse:501.533\tvalidation_1-rmse:558.097\n",
      "[28]\tvalidation_0-rmse:498.823\tvalidation_1-rmse:555.298\n",
      "[29]\tvalidation_0-rmse:497.324\tvalidation_1-rmse:554.587\n",
      "[30]\tvalidation_0-rmse:496.203\tvalidation_1-rmse:553.734\n",
      "[31]\tvalidation_0-rmse:494.136\tvalidation_1-rmse:552.171\n",
      "[32]\tvalidation_0-rmse:492.834\tvalidation_1-rmse:549.884\n",
      "[33]\tvalidation_0-rmse:490.306\tvalidation_1-rmse:547.679\n",
      "[34]\tvalidation_0-rmse:489.447\tvalidation_1-rmse:546.909\n",
      "[35]\tvalidation_0-rmse:488.35\tvalidation_1-rmse:546.468\n",
      "[36]\tvalidation_0-rmse:487.088\tvalidation_1-rmse:544.211\n",
      "[37]\tvalidation_0-rmse:485.836\tvalidation_1-rmse:542.344\n",
      "[38]\tvalidation_0-rmse:485.102\tvalidation_1-rmse:541.405\n",
      "[39]\tvalidation_0-rmse:482.746\tvalidation_1-rmse:537.685\n",
      "[40]\tvalidation_0-rmse:481.733\tvalidation_1-rmse:536.125\n",
      "[41]\tvalidation_0-rmse:481.132\tvalidation_1-rmse:535.357\n",
      "[42]\tvalidation_0-rmse:480.702\tvalidation_1-rmse:534.641\n",
      "[43]\tvalidation_0-rmse:480.213\tvalidation_1-rmse:534.018\n",
      "[44]\tvalidation_0-rmse:478.788\tvalidation_1-rmse:532.983\n",
      "[45]\tvalidation_0-rmse:478.163\tvalidation_1-rmse:532.724\n",
      "[46]\tvalidation_0-rmse:476.876\tvalidation_1-rmse:530.577\n",
      "[47]\tvalidation_0-rmse:474.89\tvalidation_1-rmse:529.593\n",
      "[48]\tvalidation_0-rmse:472.937\tvalidation_1-rmse:526.377\n",
      "[49]\tvalidation_0-rmse:472.54\tvalidation_1-rmse:525.9\n",
      "[50]\tvalidation_0-rmse:470.942\tvalidation_1-rmse:524.439\n",
      "[51]\tvalidation_0-rmse:468.952\tvalidation_1-rmse:522.88\n",
      "[52]\tvalidation_0-rmse:468.626\tvalidation_1-rmse:522.542\n",
      "[53]\tvalidation_0-rmse:467.317\tvalidation_1-rmse:521.329\n",
      "[54]\tvalidation_0-rmse:466.563\tvalidation_1-rmse:520.229\n",
      "[55]\tvalidation_0-rmse:463.717\tvalidation_1-rmse:516.61\n",
      "[56]\tvalidation_0-rmse:462.558\tvalidation_1-rmse:514.93\n",
      "[57]\tvalidation_0-rmse:462.308\tvalidation_1-rmse:514.694\n",
      "[58]\tvalidation_0-rmse:461.23\tvalidation_1-rmse:513.805\n"
     ]
    },
    {
     "name": "stderr",
     "output_type": "stream",
     "text": [
      "C:\\Users\\D3MoNa\\Anaconda3\\lib\\site-packages\\xgboost\\core.py:587: FutureWarning: Series.base is deprecated and will be removed in a future version\n",
      "  if getattr(data, 'base', None) is not None and \\\n",
      "C:\\Users\\D3MoNa\\Anaconda3\\lib\\site-packages\\xgboost\\core.py:588: FutureWarning: Series.base is deprecated and will be removed in a future version\n",
      "  data.base is not None and isinstance(data, np.ndarray) \\\n"
     ]
    },
    {
     "name": "stdout",
     "output_type": "stream",
     "text": [
      "[59]\tvalidation_0-rmse:460.509\tvalidation_1-rmse:513.325\n",
      "[60]\tvalidation_0-rmse:459.399\tvalidation_1-rmse:512.768\n",
      "[61]\tvalidation_0-rmse:458.439\tvalidation_1-rmse:511.664\n",
      "[62]\tvalidation_0-rmse:458.281\tvalidation_1-rmse:511.569\n",
      "[63]\tvalidation_0-rmse:458.087\tvalidation_1-rmse:511.396\n",
      "[64]\tvalidation_0-rmse:457.142\tvalidation_1-rmse:511.009\n",
      "[65]\tvalidation_0-rmse:456.218\tvalidation_1-rmse:510.651\n",
      "[66]\tvalidation_0-rmse:456.054\tvalidation_1-rmse:510.501\n",
      "[67]\tvalidation_0-rmse:455.268\tvalidation_1-rmse:509.257\n",
      "[68]\tvalidation_0-rmse:454.496\tvalidation_1-rmse:508.859\n",
      "[69]\tvalidation_0-rmse:454.357\tvalidation_1-rmse:508.74\n",
      "[70]\tvalidation_0-rmse:453.972\tvalidation_1-rmse:508.293\n",
      "[71]\tvalidation_0-rmse:453.707\tvalidation_1-rmse:508.234\n",
      "[72]\tvalidation_0-rmse:453.138\tvalidation_1-rmse:507.777\n",
      "[73]\tvalidation_0-rmse:452.121\tvalidation_1-rmse:506.659\n",
      "[74]\tvalidation_0-rmse:450.233\tvalidation_1-rmse:504.107\n",
      "[75]\tvalidation_0-rmse:450.117\tvalidation_1-rmse:504.085\n",
      "[76]\tvalidation_0-rmse:449.869\tvalidation_1-rmse:503.869\n",
      "[77]\tvalidation_0-rmse:449.089\tvalidation_1-rmse:503.565\n",
      "[78]\tvalidation_0-rmse:446.72\tvalidation_1-rmse:500.704\n",
      "[79]\tvalidation_0-rmse:446.003\tvalidation_1-rmse:499.407\n",
      "[80]\tvalidation_0-rmse:445.888\tvalidation_1-rmse:499.313\n",
      "[81]\tvalidation_0-rmse:443.916\tvalidation_1-rmse:498.262\n",
      "[82]\tvalidation_0-rmse:442.506\tvalidation_1-rmse:496.163\n",
      "[83]\tvalidation_0-rmse:441.635\tvalidation_1-rmse:495.23\n",
      "[84]\tvalidation_0-rmse:440.161\tvalidation_1-rmse:492.978\n",
      "[85]\tvalidation_0-rmse:438.757\tvalidation_1-rmse:492.178\n",
      "[86]\tvalidation_0-rmse:437.991\tvalidation_1-rmse:491.886\n",
      "[87]\tvalidation_0-rmse:437.416\tvalidation_1-rmse:491.678\n",
      "[88]\tvalidation_0-rmse:437.228\tvalidation_1-rmse:491.501\n",
      "[89]\tvalidation_0-rmse:436.499\tvalidation_1-rmse:490.192\n",
      "[90]\tvalidation_0-rmse:434.65\tvalidation_1-rmse:487.957\n",
      "[91]\tvalidation_0-rmse:434.57\tvalidation_1-rmse:487.945\n",
      "[92]\tvalidation_0-rmse:434.302\tvalidation_1-rmse:487.758\n",
      "[93]\tvalidation_0-rmse:433.889\tvalidation_1-rmse:487.615\n",
      "[94]\tvalidation_0-rmse:432.706\tvalidation_1-rmse:486.748\n",
      "[95]\tvalidation_0-rmse:431.323\tvalidation_1-rmse:485.776\n",
      "[96]\tvalidation_0-rmse:431.103\tvalidation_1-rmse:485.733\n",
      "[97]\tvalidation_0-rmse:429.809\tvalidation_1-rmse:485.242\n",
      "[98]\tvalidation_0-rmse:429.367\tvalidation_1-rmse:484.887\n",
      "[99]\tvalidation_0-rmse:429.269\tvalidation_1-rmse:484.811\n"
     ]
    },
    {
     "data": {
      "text/plain": [
       "XGBRegressor(base_score=0.5, booster='gbtree', colsample_bylevel=1,\n",
       "       colsample_bynode=1, colsample_bytree=1, gamma=0,\n",
       "       importance_type='gain', learning_rate=0.1, max_delta_step=0,\n",
       "       max_depth=3, min_child_weight=1, missing=None, n_estimators=100,\n",
       "       n_jobs=1, nthread=None, objective='reg:linear', random_state=0,\n",
       "       reg_alpha=0, reg_lambda=1, scale_pos_weight=1, seed=None,\n",
       "       silent=None, subsample=1, verbosity=1)"
      ]
     },
     "execution_count": 78,
     "metadata": {},
     "output_type": "execute_result"
    }
   ],
   "source": [
    "eval_set = [(X_train_encoder, y_train),\n",
    "        (X_val_encoder, y_validate)]\n",
    "\n",
    "model = XGBRegressor(\n",
    "   \n",
    ")\n",
    "\n",
    "model.fit(X_train_encoder, y_train, eval_set=eval_set)"
   ]
  },
  {
   "cell_type": "code",
   "execution_count": null,
   "metadata": {},
   "outputs": [],
   "source": []
  }
 ],
 "metadata": {
  "kernelspec": {
   "display_name": "Python 3",
   "language": "python",
   "name": "python3"
  },
  "language_info": {
   "codemirror_mode": {
    "name": "ipython",
    "version": 3
   },
   "file_extension": ".py",
   "mimetype": "text/x-python",
   "name": "python",
   "nbconvert_exporter": "python",
   "pygments_lexer": "ipython3",
   "version": "3.6.4"
  },
  "pycharm": {
   "stem_cell": {
    "cell_type": "raw",
    "metadata": {
     "collapsed": false
    },
    "source": []
   }
  }
 },
 "nbformat": 4,
 "nbformat_minor": 1
}
