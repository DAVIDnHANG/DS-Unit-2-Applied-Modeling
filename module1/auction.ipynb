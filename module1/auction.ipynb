{
 "cells": [
  {
   "cell_type": "code",
   "execution_count": 1,
   "metadata": {
    "collapsed": true,
    "pycharm": {
     "name": "#%%\n",
     "is_executing": false
    }
   },
   "outputs": [],
   "source": [
    "import pandas as pd\n",
    "import io\n",
    "import requests"
   ]
  },
  {
   "cell_type": "code",
   "execution_count": 73,
   "outputs": [],
   "source": [
    "path = \"../m2wk ProjectHere/datafinitielectronic_results.csv\"\n",
    "Review_df = pd.read_csv(path)\n"
   ],
   "metadata": {
    "collapsed": false,
    "pycharm": {
     "name": "#%%\n",
     "is_executing": false
    }
   }
  },
  {
   "cell_type": "code",
   "execution_count": 74,
   "outputs": [
    {
     "name": "stdout",
     "text": [
      "Index(['id', 'asins', 'brand', 'categories', 'colors', 'dateadded',\n       'dateupdated', 'dimension', 'ean', 'imageurls', 'keys', 'manufacturer',\n       'manufacturernumber', 'name', 'primarycategories', 'reviews_date',\n       'reviews_dateseen', 'reviews_dorecommend', 'reviews_numhelpful',\n       'reviews_rating', 'reviews_sourceurls', 'reviews_text', 'reviews_title',\n       'reviews_username', 'sourceurls', 'upc', 'weight'],\n      dtype='object')\n"
     ],
     "output_type": "stream"
    }
   ],
   "source": [
    "print(Review_df.columns)\n",
    "#Review_df.head()\n",
    "#text.dtypes"
   ],
   "metadata": {
    "collapsed": false,
    "pycharm": {
     "name": "#%%\n",
     "is_executing": false
    }
   }
  },
  {
   "cell_type": "markdown",
   "source": [
    "Target  = review rating 1-5\n",
    "train - validate - test - 80% 20% test\n",
    "classification\n",
    "Random forest, "
   ],
   "metadata": {
    "collapsed": false,
    "pycharm": {
     "name": "#%% md\n",
     "is_executing": false
    }
   }
  },
  {
   "cell_type": "code",
   "execution_count": 75,
   "outputs": [],
   "source": [
    "#drop - reviews_username  imageurls\n",
    "# ean, imageurls,  reviews_date\treviews_dateseen, reviews_sourceurls, reviews_text reviews_title, sourceurls\n",
    "#change review_rating, a float, to string.\n",
    "Review_df['reviews_rating']=Review_df.reviews_rating.astype(\"category\")"
   ],
   "metadata": {
    "collapsed": false,
    "pycharm": {
     "name": "#%%\n",
     "is_executing": false
    }
   }
  },
  {
   "cell_type": "code",
   "execution_count": 76,
   "outputs": [
    {
     "data": {
      "text/plain": "id                       object\nasins                    object\nbrand                    object\ncategories               object\ncolors                   object\ndateadded                object\ndateupdated              object\ndimension                object\nean                     float64\nimageurls                object\nkeys                     object\nmanufacturer             object\nmanufacturernumber       object\nname                     object\nprimarycategories        object\nreviews_date             object\nreviews_dateseen         object\nreviews_dorecommend      object\nreviews_numhelpful      float64\nreviews_rating         category\nreviews_sourceurls       object\nreviews_text             object\nreviews_title            object\nreviews_username         object\nsourceurls               object\nupc                     float64\nweight                   object\ndtype: object"
     },
     "metadata": {},
     "output_type": "execute_result",
     "execution_count": 76
    }
   ],
   "source": [
    "Review_df.dtypes"
   ],
   "metadata": {
    "collapsed": false,
    "pycharm": {
     "name": "#%%\n",
     "is_executing": false
    }
   }
  },
  {
   "cell_type": "code",
   "execution_count": 77,
   "outputs": [
    {
     "data": {
      "text/plain": "((3750, 27), (1250, 27))"
     },
     "metadata": {},
     "output_type": "execute_result",
     "execution_count": 77
    }
   ],
   "source": [
    "# <editor-fold desc=\"train_test_split model\">\n",
    "from sklearn.model_selection import train_test_split\n",
    "train, test = train_test_split(Review_df, train_size = 0.75, test_size =0.25, random_state=42)\n",
    "train.shape, test.shape\n",
    "# </editor-fold>"
   ],
   "metadata": {
    "collapsed": false,
    "pycharm": {
     "name": "#%%\n",
     "is_executing": false
    }
   }
  },
  {
   "cell_type": "code",
   "execution_count": 78,
   "outputs": [],
   "source": [
    "# <editor-fold desc=\"wrangle function\">\n",
    "def wrangle(X):\n",
    "    X=X.copy()\n",
    "    Columns_drop = ['ean', \n",
    "                    'imageurls',  \n",
    "                    'reviews_date',\t\n",
    "                    'reviews_dateseen', \n",
    "                    'reviews_sourceurls', \n",
    "                    'reviews_text',\n",
    "                    'reviews_title',\n",
    "                    'reviews_username',\n",
    "                    'sourceurls',]\n",
    "    X=X.drop(columns=Columns_drop)\n",
    "    return X\n",
    "# </editor-fold>"
   ],
   "metadata": {
    "collapsed": false,
    "pycharm": {
     "name": "#%%\n",
     "is_executing": false
    }
   }
  },
  {
   "cell_type": "code",
   "execution_count": 79,
   "outputs": [],
   "source": [
    "# <editor-fold desc=\"passing dataframe to wrangle function\">\n",
    "train = wrangle(train)\n",
    "test = wrangle(test)\n",
    "# </editor-fold>"
   ],
   "metadata": {
    "collapsed": false,
    "pycharm": {
     "name": "#%%\n",
     "is_executing": false
    }
   }
  },
  {
   "cell_type": "code",
   "execution_count": 80,
   "outputs": [
    {
     "data": {
      "text/plain": "Index(['id', 'asins', 'brand', 'categories', 'colors', 'dateadded',\n       'dateupdated', 'dimension', 'keys', 'manufacturer',\n       'manufacturernumber', 'name', 'primarycategories',\n       'reviews_dorecommend', 'reviews_numhelpful', 'reviews_rating', 'upc',\n       'weight'],\n      dtype='object')"
     },
     "metadata": {},
     "output_type": "execute_result",
     "execution_count": 80
    }
   ],
   "source": [
    "train.columns\n",
    "#replace review_helpfulness = NaN with zero."
   ],
   "metadata": {
    "collapsed": false,
    "pycharm": {
     "name": "#%%\n",
     "is_executing": false
    }
   }
  },
  {
   "cell_type": "code",
   "execution_count": null,
   "outputs": [],
   "source": [
    "target = 'reviews_rating'\n",
    "features = train.drop(columns = [target,'id'])\n",
    "\n",
    "X_train = train[features]\n",
    "y_train = train[target]\n",
    "X_test = test[features]\n",
    "y_test = test[target]\n",
    "\n"
   ],
   "metadata": {
    "collapsed": false,
    "pycharm": {
     "name": "#%%\n"
    }
   }
  }
 ],
 "metadata": {
  "kernelspec": {
   "display_name": "Python 3",
   "language": "python",
   "name": "python3"
  },
  "language_info": {
   "codemirror_mode": {
    "name": "ipython",
    "version": 2
   },
   "file_extension": ".py",
   "mimetype": "text/x-python",
   "name": "python",
   "nbconvert_exporter": "python",
   "pygments_lexer": "ipython2",
   "version": "2.7.6"
  },
  "pycharm": {
   "stem_cell": {
    "cell_type": "raw",
    "source": [],
    "metadata": {
     "collapsed": false
    }
   }
  }
 },
 "nbformat": 4,
 "nbformat_minor": 0
}